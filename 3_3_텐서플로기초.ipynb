{
  "nbformat": 4,
  "nbformat_minor": 0,
  "metadata": {
    "colab": {
      "name": "3_3.텐서플로기초.ipynb",
      "provenance": [],
      "authorship_tag": "ABX9TyPQzV2Hdc1OjuePqsXaSdg6",
      "include_colab_link": true
    },
    "kernelspec": {
      "name": "python3",
      "display_name": "Python 3"
    }
  },
  "cells": [
    {
      "cell_type": "markdown",
      "metadata": {
        "id": "view-in-github",
        "colab_type": "text"
      },
      "source": [
        "<a href=\"https://colab.research.google.com/github/leesiri1004/Colab/blob/main/3_3_%ED%85%90%EC%84%9C%ED%94%8C%EB%A1%9C%EA%B8%B0%EC%B4%88.ipynb\" target=\"_parent\"><img src=\"https://colab.research.google.com/assets/colab-badge.svg\" alt=\"Open In Colab\"/></a>"
      ]
    },
    {
      "cell_type": "code",
      "metadata": {
        "id": "NYyoOVSsi2UA"
      },
      "source": [
        "\"\"\"\r\n",
        "날짜 : 2021/02/04\r\n",
        "이름 : 이슬이\r\n",
        "내용 : Tensorflow 텐서플로 기초 - Tensorflow + Keras\r\n",
        "\"\"\""
      ],
      "execution_count": null,
      "outputs": []
    },
    {
      "cell_type": "code",
      "metadata": {
        "colab": {
          "base_uri": "https://localhost:8080/",
          "height": 35
        },
        "id": "57-GjktnleXb",
        "outputId": "3c4f1844-65ea-4b41-f34a-8731e5f2ccad"
      },
      "source": [
        "import tensorflow as tf\r\n",
        "tf.__version__"
      ],
      "execution_count": null,
      "outputs": [
        {
          "output_type": "execute_result",
          "data": {
            "application/vnd.google.colaboratory.intrinsic+json": {
              "type": "string"
            },
            "text/plain": [
              "'2.4.1'"
            ]
          },
          "metadata": {
            "tags": []
          },
          "execution_count": 4
        }
      ]
    },
    {
      "cell_type": "code",
      "metadata": {
        "colab": {
          "base_uri": "https://localhost:8080/"
        },
        "id": "uy1bWvZMlpCQ",
        "outputId": "e5935a63-cb4d-402a-f9e0-e301a637af8b"
      },
      "source": [
        "var1 = tf.constant('Hello Tensorflow!')\r\n",
        "var1\r\n",
        "var1.numpy()"
      ],
      "execution_count": null,
      "outputs": [
        {
          "output_type": "execute_result",
          "data": {
            "text/plain": [
              "b'Hello Tensorflow!'"
            ]
          },
          "metadata": {
            "tags": []
          },
          "execution_count": 6
        }
      ]
    },
    {
      "cell_type": "code",
      "metadata": {
        "colab": {
          "base_uri": "https://localhost:8080/"
        },
        "id": "JnW-HsSTmM7J",
        "outputId": "f88af66d-d0f9-4829-913d-3a105a2f054a"
      },
      "source": [
        "# 텐서플로 연산\r\n",
        "num1 = tf.Variable(1)\r\n",
        "num2 = tf.Variable(2)\r\n",
        "\r\n",
        "num3 = num1 + num2\r\n",
        "num3.numpy()"
      ],
      "execution_count": null,
      "outputs": [
        {
          "output_type": "execute_result",
          "data": {
            "text/plain": [
              "3"
            ]
          },
          "metadata": {
            "tags": []
          },
          "execution_count": 8
        }
      ]
    }
  ]
}