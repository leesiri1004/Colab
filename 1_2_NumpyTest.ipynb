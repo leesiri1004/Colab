{
  "nbformat": 4,
  "nbformat_minor": 0,
  "metadata": {
    "colab": {
      "name": "1_2.NumpyTest.ipynb",
      "provenance": [],
      "authorship_tag": "ABX9TyMVEh1Gs8+8SjINqyS3uWJ6",
      "include_colab_link": true
    },
    "kernelspec": {
      "name": "python3",
      "display_name": "Python 3"
    }
  },
  "cells": [
    {
      "cell_type": "markdown",
      "metadata": {
        "id": "view-in-github",
        "colab_type": "text"
      },
      "source": [
        "<a href=\"https://colab.research.google.com/github/leesiri1004/Colab/blob/main/1_2_NumpyTest.ipynb\" target=\"_parent\"><img src=\"https://colab.research.google.com/assets/colab-badge.svg\" alt=\"Open In Colab\"/></a>"
      ]
    },
    {
      "cell_type": "code",
      "metadata": {
        "id": "-N9DzcVpHqUg"
      },
      "source": [
        "# 날짜 : 2021/02/01\r\n",
        "# 이름 : 이슬이\r\n",
        "# 내용 : 파이썬 Numpy 수치해석 라이브러리 실습하기"
      ],
      "execution_count": null,
      "outputs": []
    },
    {
      "cell_type": "code",
      "metadata": {
        "id": "JcxzbCQ0IFXK"
      },
      "source": [
        "import numpy as np"
      ],
      "execution_count": null,
      "outputs": []
    },
    {
      "cell_type": "code",
      "metadata": {
        "colab": {
          "base_uri": "https://localhost:8080/"
        },
        "id": "p0WRRntTIILp",
        "outputId": "883b0502-655a-4d2b-a2a7-12d2b1a8528e"
      },
      "source": [
        "# numpy 자료구조 - 벡터\r\n",
        "v1 = np.array([1,2,3,4,5])\r\n",
        "v1\r\n",
        "v2 = np.arange(5)\r\n",
        "v3 = np.arange(10)\r\n",
        "\r\n",
        "print('v1 : ', v1)\r\n",
        "print('v2 : ', v2)\r\n",
        "print('v3 : ', v3)"
      ],
      "execution_count": null,
      "outputs": [
        {
          "output_type": "stream",
          "text": [
            "v1 :  [1 2 3 4 5]\n",
            "v2 :  [0 1 2 3 4]\n",
            "v3 :  [0 1 2 3 4 5 6 7 8 9]\n"
          ],
          "name": "stdout"
        }
      ]
    },
    {
      "cell_type": "code",
      "metadata": {
        "id": "EjjOUabnIaJ4"
      },
      "source": [
        "# 0 ~ 1 사이에 임의의 실수\r\n",
        "rand1 = np.random.rand(100)\r\n",
        "\r\n",
        "# 표준정규분포를 따르는 실수 100개\r\n",
        "rand2 = np.random.rand(100)\r\n",
        "\r\n",
        "# 0 ~ 9 사이에 임의의 정수\r\n",
        "rand3 = np.random.rand(10)"
      ],
      "execution_count": null,
      "outputs": []
    },
    {
      "cell_type": "code",
      "metadata": {
        "colab": {
          "base_uri": "https://localhost:8080/"
        },
        "id": "7ULjUr6HI83a",
        "outputId": "22b089ad-d0e4-4905-f611-f95efccdb7d0"
      },
      "source": [
        "rand1"
      ],
      "execution_count": null,
      "outputs": [
        {
          "output_type": "execute_result",
          "data": {
            "text/plain": [
              "array([0.11532399, 0.92902791, 0.9359939 , 0.20521458, 0.6239885 ,\n",
              "       0.36546142, 0.19712999, 0.86882367, 0.93406538, 0.45150751,\n",
              "       0.44125452, 0.92811163, 0.49869877, 0.19130269, 0.52909619,\n",
              "       0.27740456, 0.02485951, 0.51698595, 0.36046684, 0.6287584 ,\n",
              "       0.07846992, 0.73996774, 0.94177309, 0.45226722, 0.95200261,\n",
              "       0.57531163, 0.35840845, 0.50882313, 0.99604511, 0.23763025,\n",
              "       0.41268373, 0.16605253, 0.48452867, 0.30368494, 0.94449549,\n",
              "       0.21852487, 0.1358334 , 0.55885721, 0.31523872, 0.6648239 ,\n",
              "       0.89382001, 0.55093096, 0.21948758, 0.89999661, 0.86780083,\n",
              "       0.134746  , 0.72327704, 0.76784304, 0.77593346, 0.69854983,\n",
              "       0.31397567, 0.16861328, 0.82745448, 0.29432682, 0.38998397,\n",
              "       0.67825414, 0.023754  , 0.30109215, 0.52747256, 0.63633063,\n",
              "       0.40894759, 0.19044895, 0.77846368, 0.12029121, 0.66880265,\n",
              "       0.09434147, 0.71150644, 0.78723533, 0.25935541, 0.54408162,\n",
              "       0.61845207, 0.65919818, 0.85888122, 0.19104283, 0.0989412 ,\n",
              "       0.54831771, 0.36152882, 0.53481921, 0.17732625, 0.42245385,\n",
              "       0.04560916, 0.138418  , 0.74624578, 0.4065129 , 0.88100811,\n",
              "       0.85013662, 0.8790078 , 0.35048046, 0.08459972, 0.32979312,\n",
              "       0.12287222, 0.22738299, 0.07444597, 0.26016156, 0.02006898,\n",
              "       0.84979026, 0.81362417, 0.3870376 , 0.55017217, 0.57343564])"
            ]
          },
          "metadata": {
            "tags": []
          },
          "execution_count": 13
        }
      ]
    },
    {
      "cell_type": "code",
      "metadata": {
        "colab": {
          "base_uri": "https://localhost:8080/"
        },
        "id": "4OBytHJLI-KZ",
        "outputId": "38daf81b-9ed8-4536-b8f8-c8b75f97cd51"
      },
      "source": [
        "rand2"
      ],
      "execution_count": null,
      "outputs": [
        {
          "output_type": "execute_result",
          "data": {
            "text/plain": [
              "array([0.71611669, 0.63976411, 0.34796938, 0.73926104, 0.06199944,\n",
              "       0.88591574, 0.5184641 , 0.28233032, 0.32343912, 0.18397542,\n",
              "       0.46910866, 0.2794372 , 0.1885921 , 0.67690951, 0.01191412,\n",
              "       0.53017222, 0.38564715, 0.40702124, 0.85024038, 0.1225321 ,\n",
              "       0.96404379, 0.25309667, 0.84252297, 0.55422858, 0.64999661,\n",
              "       0.75353437, 0.20276071, 0.21313724, 0.11152881, 0.08475634,\n",
              "       0.79348119, 0.87290468, 0.78925914, 0.04707174, 0.36151116,\n",
              "       0.42828604, 0.34331157, 0.32559499, 0.45301191, 0.06897993,\n",
              "       0.66137351, 0.99825467, 0.14452667, 0.16265426, 0.73586007,\n",
              "       0.35720094, 0.88491946, 0.68156217, 0.08196478, 0.12519259,\n",
              "       0.10731387, 0.24008114, 0.61603637, 0.33567681, 0.90375898,\n",
              "       0.5512346 , 0.29436907, 0.64117194, 0.70589339, 0.29553622,\n",
              "       0.81925485, 0.83211935, 0.81181343, 0.62829462, 0.07848252,\n",
              "       0.49902387, 0.3699256 , 0.87404085, 0.48212505, 0.74291511,\n",
              "       0.28598961, 0.7564448 , 0.02325731, 0.61180619, 0.46694989,\n",
              "       0.45727522, 0.24757262, 0.2648696 , 0.9207793 , 0.2152187 ,\n",
              "       0.52051746, 0.98137123, 0.03749613, 0.96381918, 0.03665266,\n",
              "       0.946101  , 0.69251552, 0.07348893, 0.63336802, 0.3457198 ,\n",
              "       0.11946871, 0.7328011 , 0.40595176, 0.4373735 , 0.75314247,\n",
              "       0.08144277, 0.24732343, 0.67493283, 0.08692656, 0.53288487])"
            ]
          },
          "metadata": {
            "tags": []
          },
          "execution_count": 14
        }
      ]
    },
    {
      "cell_type": "code",
      "metadata": {
        "colab": {
          "base_uri": "https://localhost:8080/"
        },
        "id": "njGeHyPOI_j5",
        "outputId": "9f1740c9-d7fb-4345-c416-e94919d371cf"
      },
      "source": [
        "rand3"
      ],
      "execution_count": null,
      "outputs": [
        {
          "output_type": "execute_result",
          "data": {
            "text/plain": [
              "array([0.96373742, 0.44548567, 0.38641301, 0.85426416, 0.1214159 ,\n",
              "       0.2039343 , 0.90525725, 0.1353296 , 0.03017998, 0.65225226])"
            ]
          },
          "metadata": {
            "tags": []
          },
          "execution_count": 15
        }
      ]
    },
    {
      "cell_type": "code",
      "metadata": {
        "colab": {
          "base_uri": "https://localhost:8080/"
        },
        "id": "-4pqfGdNJAtZ",
        "outputId": "eb95b069-593c-494f-8494-2e7cfb940da2"
      },
      "source": [
        "# 행렬\r\n",
        "m1 = np.array([[1,2], [3,4]])\r\n",
        "print(m1)\r\n",
        "\r\n",
        "m2 = np.array([[1,2,3], [4,5,6], [7,8,9]])\r\n",
        "print(m2)\r\n",
        "\r\n",
        "m3 = np.ones([2, 4])\r\n",
        "print(m3)\r\n",
        "\r\n",
        "m4 = np.zeros([3, 2])\r\n",
        "print(m4)"
      ],
      "execution_count": null,
      "outputs": [
        {
          "output_type": "stream",
          "text": [
            "[[1 2]\n",
            " [3 4]]\n",
            "[[1 2 3]\n",
            " [4 5 6]\n",
            " [7 8 9]]\n",
            "[[1. 1. 1. 1.]\n",
            " [1. 1. 1. 1.]]\n",
            "[[0. 0.]\n",
            " [0. 0.]\n",
            " [0. 0.]]\n"
          ],
          "name": "stdout"
        }
      ]
    },
    {
      "cell_type": "code",
      "metadata": {
        "colab": {
          "base_uri": "https://localhost:8080/"
        },
        "id": "YhLmSJZuKcTC",
        "outputId": "72e18134-3d45-4980-8652-119e4f8faa9a"
      },
      "source": [
        "# 전치행렬\r\n",
        "tm1 = m1.T\r\n",
        "print(tm1)\r\n",
        "\r\n",
        "tm2 = m2.transpose()\r\n",
        "print(tm2)"
      ],
      "execution_count": null,
      "outputs": [
        {
          "output_type": "stream",
          "text": [
            "[[1 3]\n",
            " [2 4]]\n",
            "[[1 4 7]\n",
            " [2 5 8]\n",
            " [3 6 9]]\n"
          ],
          "name": "stdout"
        }
      ]
    },
    {
      "cell_type": "code",
      "metadata": {
        "colab": {
          "base_uri": "https://localhost:8080/"
        },
        "id": "kqIb49fTKxmC",
        "outputId": "4b0d4e7f-8093-4413-d8b9-1850d91a60e6"
      },
      "source": [
        "# 단위행렬\r\n",
        "e1 = np.identity(2)\r\n",
        "print(e1)\r\n",
        "\r\n",
        "e2 = np.identity(3)\r\n",
        "print(e2)"
      ],
      "execution_count": null,
      "outputs": [
        {
          "output_type": "stream",
          "text": [
            "[[1. 0.]\n",
            " [0. 1.]]\n",
            "[[1. 0. 0.]\n",
            " [0. 1. 0.]\n",
            " [0. 0. 1.]]\n"
          ],
          "name": "stdout"
        }
      ]
    },
    {
      "cell_type": "code",
      "metadata": {
        "colab": {
          "base_uri": "https://localhost:8080/"
        },
        "id": "8nEqqahlLLgJ",
        "outputId": "e094a334-937a-45c0-a8c6-b2565ef6fc29"
      },
      "source": [
        "# 행렬 인덱싱\r\n",
        "mat = np.array([[1,2,3,4], [5,6,7,8], [9,10,11,12]])\r\n",
        "print(mat)\r\n",
        "\r\n",
        "print(mat[0,0])\r\n",
        "print(mat[0,:])\r\n",
        "print(mat[:,0])\r\n",
        "\r\n",
        "print(mat[0:2, 0:2])\r\n",
        "print(mat[:, 0:2])\r\n",
        "print(mat[:, 2:4])\r\n",
        "print(mat[1:3, 1:3])"
      ],
      "execution_count": null,
      "outputs": [
        {
          "output_type": "stream",
          "text": [
            "[[ 1  2  3  4]\n",
            " [ 5  6  7  8]\n",
            " [ 9 10 11 12]]\n",
            "1\n",
            "[1 2 3 4]\n",
            "[1 5 9]\n",
            "[[1 2]\n",
            " [5 6]]\n",
            "[[ 1  2]\n",
            " [ 5  6]\n",
            " [ 9 10]]\n",
            "[[ 3  4]\n",
            " [ 7  8]\n",
            " [11 12]]\n",
            "[[ 6  7]\n",
            " [10 11]]\n"
          ],
          "name": "stdout"
        }
      ]
    }
  ]
}