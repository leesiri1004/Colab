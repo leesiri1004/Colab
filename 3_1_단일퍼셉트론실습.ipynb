{
  "nbformat": 4,
  "nbformat_minor": 0,
  "metadata": {
    "colab": {
      "name": "3_1.단일퍼셉트론실습.ipynb",
      "provenance": [],
      "collapsed_sections": [],
      "authorship_tag": "ABX9TyOtMYHUcYczX6TsXq9yGt9N",
      "include_colab_link": true
    },
    "kernelspec": {
      "name": "python3",
      "display_name": "Python 3"
    }
  },
  "cells": [
    {
      "cell_type": "markdown",
      "metadata": {
        "id": "view-in-github",
        "colab_type": "text"
      },
      "source": [
        "<a href=\"https://colab.research.google.com/github/leesiri1004/Colab/blob/main/3_1_%EB%8B%A8%EC%9D%BC%ED%8D%BC%EC%85%89%ED%8A%B8%EB%A1%A0%EC%8B%A4%EC%8A%B5.ipynb\" target=\"_parent\"><img src=\"https://colab.research.google.com/assets/colab-badge.svg\" alt=\"Open In Colab\"/></a>"
      ]
    },
    {
      "cell_type": "code",
      "metadata": {
        "id": "zbIZya_CoPiP"
      },
      "source": [
        "\"\"\"\r\n",
        "날짜 : 2021/02/03\r\n",
        "이름 : 이슬이\r\n",
        "내용 : 단일 퍼셉트론 실습하기\r\n",
        "\"\"\""
      ],
      "execution_count": null,
      "outputs": []
    },
    {
      "cell_type": "code",
      "metadata": {
        "id": "N9ZgAY4vomWB"
      },
      "source": [
        "import numpy as np"
      ],
      "execution_count": null,
      "outputs": []
    },
    {
      "cell_type": "code",
      "metadata": {
        "id": "kTLpEWq5ooRQ"
      },
      "source": [
        "# AND연산 퍼셉트론 함수\r\n",
        "def AND(x1, x2):\r\n",
        "  x = np.array([x1, x2])\r\n",
        "  w = np.array([0.5, 0.5])\r\n",
        "  b = -0.7\r\n",
        "\r\n",
        "  y = np.sum(x * w) + b\r\n",
        "\r\n",
        "  if y <= 0:\r\n",
        "    return 0\r\n",
        "  else:\r\n",
        "    return 1"
      ],
      "execution_count": null,
      "outputs": []
    },
    {
      "cell_type": "code",
      "metadata": {
        "id": "i0iy1EeppNmW"
      },
      "source": [
        "# NAND연산 퍼셉트론 함수\r\n",
        "def NAND(x1, x2):\r\n",
        "  x = np.array([x1, x2])\r\n",
        "  w = np.array([-0.5, -0.5])\r\n",
        "  b = 0.7\r\n",
        "\r\n",
        "  y = np.sum(x * w) + b\r\n",
        "\r\n",
        "  if y <= 0:\r\n",
        "    return 0\r\n",
        "  else:\r\n",
        "    return 1"
      ],
      "execution_count": null,
      "outputs": []
    },
    {
      "cell_type": "code",
      "metadata": {
        "id": "O4LMguSOqWHI"
      },
      "source": [
        "# OR연산 퍼셉트론 함수\r\n",
        "def OR(x1, x2):\r\n",
        "  x = np.array([x1, x2])\r\n",
        "  w = np.array([2, 2])\r\n",
        "  b = 0\r\n",
        "\r\n",
        "  y = np.sum(x * w) + b\r\n",
        "\r\n",
        "  if y <= 0:\r\n",
        "    return 0\r\n",
        "  else:\r\n",
        "    return 1"
      ],
      "execution_count": null,
      "outputs": []
    },
    {
      "cell_type": "code",
      "metadata": {
        "colab": {
          "base_uri": "https://localhost:8080/"
        },
        "id": "9cppQ0gYpsWG",
        "outputId": "2b1d86df-fd0f-417e-883e-852aadec37f6"
      },
      "source": [
        "# 검증\r\n",
        "print('AND')\r\n",
        "print('0, 0 : ', AND(0, 0))\r\n",
        "print('0, 1 : ', AND(0, 1))\r\n",
        "print('1, 0 : ', AND(1, 0))\r\n",
        "print('1, 1 : ', AND(1, 1))\r\n",
        "\r\n",
        "print('NAND')\r\n",
        "print('0, 0 : ', NAND(0, 0))\r\n",
        "print('0, 1 : ', NAND(0, 1))\r\n",
        "print('1, 0 : ', NAND(1, 0))\r\n",
        "print('1, 1 : ', NAND(1, 1))\r\n",
        "\r\n",
        "print('OR')\r\n",
        "print('0, 0 : ', OR(0, 0))\r\n",
        "print('0, 1 : ', OR(0, 1))\r\n",
        "print('1, 0 : ', OR(1, 0))\r\n",
        "print('1, 1 : ', OR(1, 1))"
      ],
      "execution_count": null,
      "outputs": [
        {
          "output_type": "stream",
          "text": [
            "AND\n",
            "0, 0 :  0\n",
            "0, 1 :  0\n",
            "1, 0 :  0\n",
            "1, 1 :  1\n",
            "NAND\n",
            "0, 0 :  1\n",
            "0, 1 :  1\n",
            "1, 0 :  1\n",
            "1, 1 :  0\n",
            "OR\n",
            "0, 0 :  0\n",
            "0, 1 :  1\n",
            "1, 0 :  1\n",
            "1, 1 :  1\n"
          ],
          "name": "stdout"
        }
      ]
    },
    {
      "cell_type": "code",
      "metadata": {
        "id": "Vxh2EDnNqdOH"
      },
      "source": [
        "# XOR 연산 다층퍼셉트론\r\n",
        "def XOR(x1, x2):\r\n",
        "  z1 = NAND(x1, x2)\r\n",
        "  z2 = OR(x1,x2)\r\n",
        "  y = AND(z1,z2)\r\n",
        "\r\n",
        "  return y"
      ],
      "execution_count": null,
      "outputs": []
    },
    {
      "cell_type": "code",
      "metadata": {
        "colab": {
          "base_uri": "https://localhost:8080/"
        },
        "id": "A6g9WLzgqsge",
        "outputId": "899f601e-fd76-4994-f483-193d582a05a8"
      },
      "source": [
        "print('XOR')\r\n",
        "print('0, 0 : ', XOR(0, 0))\r\n",
        "print('0, 1 : ', XOR(0, 1))\r\n",
        "print('1, 0 : ', XOR(1, 0))\r\n",
        "print('1, 1 : ', XOR(1, 1))"
      ],
      "execution_count": null,
      "outputs": [
        {
          "output_type": "stream",
          "text": [
            "XOR\n",
            "0, 0 :  0\n",
            "0, 1 :  1\n",
            "1, 0 :  1\n",
            "1, 1 :  0\n"
          ],
          "name": "stdout"
        }
      ]
    },
    {
      "cell_type": "code",
      "metadata": {
        "id": "o47B-K6TrEu_"
      },
      "source": [
        ""
      ],
      "execution_count": null,
      "outputs": []
    }
  ]
}