{
  "nbformat": 4,
  "nbformat_minor": 0,
  "metadata": {
    "colab": {
      "name": "2_3.선형회귀분석실습.ipynb",
      "provenance": [],
      "collapsed_sections": [],
      "authorship_tag": "ABX9TyN/9m1NYNJAJJc0AqRivAdq",
      "include_colab_link": true
    },
    "kernelspec": {
      "name": "python3",
      "display_name": "Python 3"
    }
  },
  "cells": [
    {
      "cell_type": "markdown",
      "metadata": {
        "id": "view-in-github",
        "colab_type": "text"
      },
      "source": [
        "<a href=\"https://colab.research.google.com/github/leesiri1004/Colab/blob/main/2_3_%EC%84%A0%ED%98%95%ED%9A%8C%EA%B7%80%EB%B6%84%EC%84%9D%EC%8B%A4%EC%8A%B5.ipynb\" target=\"_parent\"><img src=\"https://colab.research.google.com/assets/colab-badge.svg\" alt=\"Open In Colab\"/></a>"
      ]
    },
    {
      "cell_type": "code",
      "metadata": {
        "id": "dWmG47P0dJWj"
      },
      "source": [
        "\"\"\"\r\n",
        "날짜 : 2021/02/02\r\n",
        "이름 : 이슬이\r\n",
        "내용 : 선형회귀 모델 데이터 분석 실습하기\r\n",
        "\"\"\""
      ],
      "execution_count": null,
      "outputs": []
    },
    {
      "cell_type": "code",
      "metadata": {
        "id": "FgUU6FGBdWDC"
      },
      "source": [
        "from scipy import stats\r\n",
        "from sklearn.linear_model import LinearRegression"
      ],
      "execution_count": null,
      "outputs": []
    },
    {
      "cell_type": "code",
      "metadata": {
        "id": "Kcgufpakda7A"
      },
      "source": [
        "x_data = [170, 155, 150, 175, 165]\r\n",
        "y_data = [65, 50, 45, 70, 55]"
      ],
      "execution_count": null,
      "outputs": []
    },
    {
      "cell_type": "code",
      "metadata": {
        "colab": {
          "base_uri": "https://localhost:8080/"
        },
        "id": "ZdKbxCVmdgag",
        "outputId": "628e61b0-0d45-4db0-da7a-6ab3304431ec"
      },
      "source": [
        "# 기울기, 절편 구하기\r\n",
        "slope, intercept, r, p, std = stats.linregress(x_data, y_data)\r\n",
        "print('기울기 : ', slope)\r\n",
        "print('절편 : ', intercept)"
      ],
      "execution_count": null,
      "outputs": [
        {
          "output_type": "stream",
          "text": [
            "기울기 :  0.9767441860465116\n",
            "절편 :  -102.20930232558138\n"
          ],
          "name": "stdout"
        }
      ]
    },
    {
      "cell_type": "code",
      "metadata": {
        "id": "nynHHkVcd7fr"
      },
      "source": [
        "# 학습 데이터, 학습 라벨 준비\r\n",
        "train_data = [[170], [155], [150], [175], [165]]\r\n",
        "train_label = [65, 50, 45, 70, 55]"
      ],
      "execution_count": null,
      "outputs": []
    },
    {
      "cell_type": "code",
      "metadata": {
        "colab": {
          "base_uri": "https://localhost:8080/"
        },
        "id": "Lw7QVcPXeBqo",
        "outputId": "8ccf76f3-9a6c-4f58-824b-57e8daaa4177"
      },
      "source": [
        "# 학습하기\r\n",
        "model = LinearRegression()\r\n",
        "model.fit(train_data, train_label)"
      ],
      "execution_count": null,
      "outputs": [
        {
          "output_type": "execute_result",
          "data": {
            "text/plain": [
              "LinearRegression(copy_X=True, fit_intercept=True, n_jobs=None, normalize=False)"
            ]
          },
          "metadata": {
            "tags": []
          },
          "execution_count": 7
        }
      ]
    },
    {
      "cell_type": "code",
      "metadata": {
        "colab": {
          "base_uri": "https://localhost:8080/"
        },
        "id": "2GkRxRy1elbp",
        "outputId": "c22d6545-f725-4f2a-ef32-b5fe8e189604"
      },
      "source": [
        "# 검증하기\r\n",
        "test_data = [[172],[167],[182],[158],[178]]\r\n",
        "result = model.predict(test_data)\r\n",
        "result"
      ],
      "execution_count": null,
      "outputs": [
        {
          "output_type": "execute_result",
          "data": {
            "text/plain": [
              "array([65.79069767, 60.90697674, 75.55813953, 52.11627907, 71.65116279])"
            ]
          },
          "metadata": {
            "tags": []
          },
          "execution_count": 8
        }
      ]
    }
  ]
}