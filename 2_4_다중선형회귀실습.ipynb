{
  "nbformat": 4,
  "nbformat_minor": 0,
  "metadata": {
    "colab": {
      "name": "2_4.다중선형회귀실습.ipynb",
      "provenance": [],
      "authorship_tag": "ABX9TyOnQsKV0vF9AIgHcV1h9QIE",
      "include_colab_link": true
    },
    "kernelspec": {
      "name": "python3",
      "display_name": "Python 3"
    }
  },
  "cells": [
    {
      "cell_type": "markdown",
      "metadata": {
        "id": "view-in-github",
        "colab_type": "text"
      },
      "source": [
        "<a href=\"https://colab.research.google.com/github/leesiri1004/Colab/blob/main/2_4_%EB%8B%A4%EC%A4%91%EC%84%A0%ED%98%95%ED%9A%8C%EA%B7%80%EC%8B%A4%EC%8A%B5.ipynb\" target=\"_parent\"><img src=\"https://colab.research.google.com/assets/colab-badge.svg\" alt=\"Open In Colab\"/></a>"
      ]
    },
    {
      "cell_type": "code",
      "metadata": {
        "id": "kdXyg7jWfrMK"
      },
      "source": [
        "\"\"\"\r\n",
        "날짜 : 2021/02/02\r\n",
        "이름 : 이슬이\r\n",
        "내용 : 다중 선형회귀 실습하기\r\n",
        "\"\"\""
      ],
      "execution_count": null,
      "outputs": []
    },
    {
      "cell_type": "code",
      "metadata": {
        "id": "H28WeeQgf44K"
      },
      "source": [
        "from sklearn.linear_model import LinearRegression"
      ],
      "execution_count": null,
      "outputs": []
    },
    {
      "cell_type": "code",
      "metadata": {
        "id": "kD5OQ8usf7_J"
      },
      "source": [
        "# 학습데이터, 학습라벨 준비\r\n",
        "train_data = [[170, 30], [155, 60], [150, 50], [175, 40], [165, 25]]\r\n",
        "train_label = [65, 50, 45, 70, 55]"
      ],
      "execution_count": null,
      "outputs": []
    },
    {
      "cell_type": "code",
      "metadata": {
        "colab": {
          "base_uri": "https://localhost:8080/"
        },
        "id": "s30-cTOFgRgv",
        "outputId": "eed7a172-46ef-4fc4-ba68-5e4bea84a80d"
      },
      "source": [
        "# 학습하기\r\n",
        "model = LinearRegression()\r\n",
        "model.fit(train_data, train_label)"
      ],
      "execution_count": null,
      "outputs": [
        {
          "output_type": "execute_result",
          "data": {
            "text/plain": [
              "LinearRegression(copy_X=True, fit_intercept=True, n_jobs=None, normalize=False)"
            ]
          },
          "metadata": {
            "tags": []
          },
          "execution_count": 8
        }
      ]
    },
    {
      "cell_type": "code",
      "metadata": {
        "colab": {
          "base_uri": "https://localhost:8080/"
        },
        "id": "EiKAIf0zgS0G",
        "outputId": "46171029-3e3b-4e13-d788-caf13d97bc5c"
      },
      "source": [
        "# 검증하기\r\n",
        "test_data = [[178, 25], [178, 62], [183, 34]]\r\n",
        "result = model.predict(test_data)\r\n",
        "result"
      ],
      "execution_count": null,
      "outputs": [
        {
          "output_type": "execute_result",
          "data": {
            "text/plain": [
              "array([71.28678304, 76.91521197, 78.22942643])"
            ]
          },
          "metadata": {
            "tags": []
          },
          "execution_count": 9
        }
      ]
    },
    {
      "cell_type": "code",
      "metadata": {
        "id": "BdxiBZjHgq0m"
      },
      "source": [
        "# 다중선형회귀 연습문제\r\n",
        "# 데이터 준비\r\n",
        "train_data = [[170, 30, 1], [155, 60, 2], [150, 50, 2], [175, 40, 1], [165, 20, 1]]\r\n",
        "train_label = [65, 50, 45, 70, 55]"
      ],
      "execution_count": null,
      "outputs": []
    },
    {
      "cell_type": "code",
      "metadata": {
        "colab": {
          "base_uri": "https://localhost:8080/"
        },
        "id": "bQAC0JSwhkzZ",
        "outputId": "331e0227-96b0-411c-ff84-843b4f8b9d8f"
      },
      "source": [
        "# 학습하기\r\n",
        "model = LinearRegression()\r\n",
        "model.fit(train_data, train_label)"
      ],
      "execution_count": null,
      "outputs": [
        {
          "output_type": "execute_result",
          "data": {
            "text/plain": [
              "LinearRegression(copy_X=True, fit_intercept=True, n_jobs=None, normalize=False)"
            ]
          },
          "metadata": {
            "tags": []
          },
          "execution_count": 12
        }
      ]
    },
    {
      "cell_type": "code",
      "metadata": {
        "colab": {
          "base_uri": "https://localhost:8080/"
        },
        "id": "HErSdTr4hlze",
        "outputId": "1b74de44-bd6d-4460-8782-b99dd29060d5"
      },
      "source": [
        "# 검증하기\r\n",
        "test_data = [[180, 27, 1], [176, 25, 1], [176, 25, 2]]\r\n",
        "result = model.predict(test_data)\r\n",
        "result"
      ],
      "execution_count": null,
      "outputs": [
        {
          "output_type": "execute_result",
          "data": {
            "text/plain": [
              "array([73.99785483, 69.26797966, 69.23339806])"
            ]
          },
          "metadata": {
            "tags": []
          },
          "execution_count": 15
        }
      ]
    },
    {
      "cell_type": "code",
      "metadata": {
        "id": "ibSi--YwiSNO"
      },
      "source": [
        ""
      ],
      "execution_count": null,
      "outputs": []
    }
  ]
}