{
  "nbformat": 4,
  "nbformat_minor": 0,
  "metadata": {
    "colab": {
      "name": "2_5.로지스틱회귀실습.ipynb",
      "provenance": [],
      "authorship_tag": "ABX9TyMEhqguD7aInpOlsmKj1d/z",
      "include_colab_link": true
    },
    "kernelspec": {
      "name": "python3",
      "display_name": "Python 3"
    }
  },
  "cells": [
    {
      "cell_type": "markdown",
      "metadata": {
        "id": "view-in-github",
        "colab_type": "text"
      },
      "source": [
        "<a href=\"https://colab.research.google.com/github/leesiri1004/Colab/blob/main/2_5_%EB%A1%9C%EC%A7%80%EC%8A%A4%ED%8B%B1%ED%9A%8C%EA%B7%80%EC%8B%A4%EC%8A%B5.ipynb\" target=\"_parent\"><img src=\"https://colab.research.google.com/assets/colab-badge.svg\" alt=\"Open In Colab\"/></a>"
      ]
    },
    {
      "cell_type": "code",
      "metadata": {
        "id": "Py32vK-NkBG5"
      },
      "source": [
        "\"\"\"\r\n",
        "날짜 : 2021/02/02\r\n",
        "이름 : 이슬이\r\n",
        "내용 : 로지스틱 회귀분석 실습\r\n",
        "\"\"\""
      ],
      "execution_count": null,
      "outputs": []
    },
    {
      "cell_type": "code",
      "metadata": {
        "id": "cenfQ1RgkvWn"
      },
      "source": [
        "from sklearn.linear_model import LogisticRegression"
      ],
      "execution_count": null,
      "outputs": []
    },
    {
      "cell_type": "code",
      "metadata": {
        "id": "ZxfimnR4lFF3"
      },
      "source": [
        "# 학습데이터 준비\r\n",
        "train_data = [[40, 30], [30, 80], [20, 70], [70, 40], [60, 20]]\r\n",
        "train_label = [1, 0, 0, 1, 1]"
      ],
      "execution_count": null,
      "outputs": []
    },
    {
      "cell_type": "code",
      "metadata": {
        "colab": {
          "base_uri": "https://localhost:8080/"
        },
        "id": "CcCw68ltlQAv",
        "outputId": "e64b4f73-0956-4dc8-ea38-40dea60d3022"
      },
      "source": [
        "# 학습하기\r\n",
        "model = LogisticRegression()\r\n",
        "model.fit(train_data, train_label)"
      ],
      "execution_count": null,
      "outputs": [
        {
          "output_type": "execute_result",
          "data": {
            "text/plain": [
              "LogisticRegression(C=1.0, class_weight=None, dual=False, fit_intercept=True,\n",
              "                   intercept_scaling=1, l1_ratio=None, max_iter=100,\n",
              "                   multi_class='auto', n_jobs=None, penalty='l2',\n",
              "                   random_state=None, solver='lbfgs', tol=0.0001, verbose=0,\n",
              "                   warm_start=False)"
            ]
          },
          "metadata": {
            "tags": []
          },
          "execution_count": 4
        }
      ]
    },
    {
      "cell_type": "code",
      "metadata": {
        "colab": {
          "base_uri": "https://localhost:8080/"
        },
        "id": "gGqo3aznlWpm",
        "outputId": "12320188-0e0a-4f0c-8fc5-0d8446e8dab9"
      },
      "source": [
        "# 검증하기\r\n",
        "test_data = [[46.12, 62.53], [27.20, 45.12], [37.15, 51.22]]\r\n",
        "result = model.predict(test_data)\r\n",
        "result"
      ],
      "execution_count": null,
      "outputs": [
        {
          "output_type": "execute_result",
          "data": {
            "text/plain": [
              "array([0, 1, 1])"
            ]
          },
          "metadata": {
            "tags": []
          },
          "execution_count": 6
        }
      ]
    }
  ]
}